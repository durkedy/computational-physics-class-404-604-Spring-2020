{
 "cells": [
  {
   "cell_type": "markdown",
   "metadata": {},
   "source": [
    "# Homework 2\n",
    "\n",
    "The quadratic equation takes the general form:\n",
    "\n",
    "$ax^2 + bx + c = 0$\n",
    "\n",
    "The analytical solution to the quadratic equations can take two forms:\n",
    "\n",
    "1) $x_{1,2} = \\frac{-b \\pm \\sqrt{b^2 - 4ac}}{2a}$\n",
    "\n",
    "2) $x_{1,2} = \\frac{-2c}{b \\pm \\sqrt{b^2 - 4ac}}$\n",
    "\n",
    "\n",
    "This assignment is as follows:\n",
    "\n",
    "a) Write a program that calculates all four solutions for arbitrary values of a, b, and c.\n",
    "\n",
    "b) Investigate how errors in your computed answers become large as the subtractive cancelation increases and relate this to the known machine precision ($\\textit{Hint}$: A good test utilizes a=1, b-1, $c=10^{-n}$, n = 1,2,3,...)\n",
    "\n",
    "c) Extend your program so that it indicates the most precise solutions."
   ]
  },
  {
   "cell_type": "code",
   "execution_count": 1,
   "metadata": {},
   "outputs": [],
   "source": [
    "\"\"\"\n",
    "First, define functions for each solution form to the quadratic equation.\n",
    "I call these quad1 and quad2.\n",
    "\"\"\"\n",
    "import numpy as np\n",
    "\n",
    "def quad1(a, b, c):\n",
    "    x1 = (-b + np.sqrt(b**2 - 4*a*c))/(2*a)\n",
    "    x2 = (-b - np.sqrt(b**2 - 4*a*c))/(2*a)\n",
    "    return [x1, x2]\n",
    "\n",
    "def quad2(a, b, c):\n",
    "    x1 = (-2*c)/(b + np.sqrt(b**2 - 4*a*c))\n",
    "    x2 = (-2*c)/(b - np.sqrt(b**2 - 4*a*c))\n",
    "    return [x1, x2]"
   ]
  },
  {
   "cell_type": "code",
   "execution_count": 2,
   "metadata": {},
   "outputs": [
    {
     "name": "stdout",
     "output_type": "stream",
     "text": [
      "[2.0, 2.0]\n",
      "[2.0, 2.0]\n"
     ]
    }
   ],
   "source": [
    "\"\"\"\n",
    "Test with \"good\" parameters to ensure that my two functions work properly.\n",
    "\"\"\"\n",
    "\n",
    "a = 1\n",
    "b = -4\n",
    "c = 4\n",
    "\n",
    "print(quad1(a,b,c))\n",
    "print(quad2(a,b,c))\n",
    "\n",
    "#I am getting the output that I expect."
   ]
  },
  {
   "cell_type": "code",
   "execution_count": 3,
   "metadata": {},
   "outputs": [
    {
     "name": "stdout",
     "output_type": "stream",
     "text": [
      "quad1, i =  1 [-0.1127016653792583, -0.8872983346207417]\n",
      "quad2, i =  1 [-0.11270166537925831, -0.8872983346207418]\n",
      "quad1, i =  2 [-0.010102051443364402, -0.9898979485566356]\n",
      "quad2, i =  2 [-0.01010205144336438, -0.9898979485566336]\n",
      "quad1, i =  3 [-0.0010010020050140178, -0.998998997994986]\n",
      "quad2, i =  3 [-0.001001002005014042, -0.9989989979950102]\n",
      "quad1, i =  4 [-0.00010001000200049459, -0.9998999899979994]\n",
      "quad2, i =  4 [-0.00010001000200050015, -0.9998999899980551]\n",
      "quad1, i =  5 [-1.0000100002016676e-05, -0.9999899998999979]\n",
      "quad2, i =  5 [-1.000010000200005e-05, -0.9999899998983355]\n",
      "quad1, i =  6 [-1.000001000006634e-06, -0.999998999999]\n",
      "quad2, i =  6 [-1.000001000002e-06, -0.999998999994366]\n",
      "quad1, i =  7 [-1.0000000999488279e-07, -0.99999989999999]\n",
      "quad2, i =  7 [-1.00000010000002e-07, -0.9999999000511821]\n",
      "quad1, i =  8 [-1.0000000105758744e-08, -0.9999999899999998]\n",
      "quad2, i =  8 [-1.0000000100000004e-08, -0.9999999894241257]\n",
      "quad1, i =  9 [-1.0000000272292198e-09, -0.9999999989999999]\n",
      "quad2, i =  9 [-1.0000000010000002e-09, -0.999999972770781]\n",
      "quad1, i =  10 [-1.000000082740371e-10, -0.9999999999]\n",
      "quad2, i =  10 [-1.0000000001000001e-10, -0.9999999172596359]\n",
      "quad1, i =  11 [-1.000000082740371e-11, -0.99999999999]\n",
      "quad2, i =  11 [-1.00000000001e-11, -0.9999999172596358]\n",
      "quad1, i =  12 [-1.0000333894311098e-12, -0.9999999999989999]\n",
      "quad2, i =  12 [-1.000000000001e-12, -0.9999666116837072]\n",
      "quad1, i =  13 [-1.000310945187266e-13, -0.9999999999999]\n",
      "quad2, i =  13 [-1.0000000000001001e-13, -0.9996891514695885]\n",
      "quad1, i =  14 [-9.992007221626409e-15, -0.99999999999999]\n",
      "quad2, i =  14 [-1.00000000000001e-14, -1.0007999171934436]\n",
      "quad1, i =  15 [-9.992007221626409e-16, -0.999999999999999]\n",
      "quad2, i =  15 [-1.000000000000001e-15, -1.0007999171934436]\n",
      "quad1, i =  16 [-1.1102230246251565e-16, -0.9999999999999999]\n",
      "quad2, i =  16 [-1.0000000000000001e-16, -0.9007199254740992]\n",
      "quad1, i =  17 [0.0, -1.0]\n",
      "quad2, i =  17 [-1e-17, -inf]\n"
     ]
    },
    {
     "name": "stderr",
     "output_type": "stream",
     "text": [
      "C:\\Users\\durke\\OneDrive\\Documents\\Anaconda3\\lib\\site-packages\\ipykernel_launcher.py:14: RuntimeWarning: divide by zero encountered in double_scalars\n",
      "  \n"
     ]
    }
   ],
   "source": [
    "\"\"\"\n",
    "Next, I will do a qualitative look at how my solutions change as I gradually decrease\n",
    "the value of parameter c.\n",
    "\"\"\"\n",
    "a = 1\n",
    "b = 1\n",
    "\n",
    "for i in range(1,18):\n",
    "    c = 10**(-i)\n",
    "    #d = 0.96\n",
    "    print(\"quad1, i = \", i, quad1(a,b,c))\n",
    "    print(\"quad2, i = \", i, quad2(a,b,c))"
   ]
  },
  {
   "cell_type": "markdown",
   "metadata": {},
   "source": [
    "From above output, it looks like we reach machine precision (10$^{-16}$) when we let c equal the machine precision. To get an idea of the error associated with the subraction operation in the determinant, I look at a few of the above values and calculate the relative error between solutions generated by **quad1** and **quad2**, and the analytical solution for a chosen value of c.\n",
    "\n",
    "Since in these cases the determinant results in a decimal and I am taking the square root of a decimal number, I can only get an approximation for the analytical solution: I approximate the analytical solution for a given value of c by the binomial approximation (first order Taylor expansion).\n",
    "\n",
    "$$(1+x)^{\\alpha} \\approx 1 + \\alpha x$$\n",
    "\n",
    "Then, I can compute the relative error between the analytical solution $x_a$ with the computed solution $x_c$ from the following formula:\n",
    "\n",
    "\n",
    "\n",
    "$$\\epsilon = \\left|\\frac{x_{a}-x'_{c}}{x_{a}}\\right|$$\n",
    "\n",
    "I do this on the following values of i for $c=10^{-i}$:\n",
    "\n",
    "1) i = 1\n",
    "\n",
    "2) i = 3\n",
    "\n",
    "3) i = 5\n",
    "\n",
    "4) i = 9 \n",
    "\n",
    "5) i = 11\n",
    "\n",
    "6) i = 12\n",
    "\n",
    "7) i = 14\n",
    "\n",
    "8) i = 15\n",
    "\n",
    "\n",
    "For the above values of c, the determinant $\\sqrt{b^2 - 4ac}$ becomes:\n",
    "\n",
    "1) $(1 - 4*10^{-1})^{1/2} \\approx (1 - 0.4)^{1/2} \\approx 1 - \\frac{1}{2}\\frac{4}{10} \\approx 1 - \\frac{1}{5} \\approx 0.8$\n",
    "\n",
    "2) $(1 - 4*10^{-3})^{1/2} \\approx (1 - 0.004)^{1/2} \\approx 1 - \\frac{1}{2}\\frac{4}{1000} \\approx 1 - \\frac{1}{500} \\approx 0.998$\n",
    "\n",
    "3) $(1 - 4*10^{-5})^{1/2} \\approx (1 - 0.00004)^{1/2} \\approx 1 - \\frac{1}{2}\\frac{4}{100000} \\approx 1 - \\frac{1}{50000} \\approx 0.99998$\n",
    "\n",
    "4) $(1 - 4*10^{-9})^{1/2} \\approx (1 - 0.000000004)^{1/2} \\approx 1 - \\frac{1}{2}\\frac{4}{1000000000} \\approx 1 - \\frac{1}{500000000} \\approx 0.999999998$\n",
    "\n",
    "5) $(1 - 4*10^{-11})^{1/2} \\approx (1 - 0.00000000004)^{1/2} \\approx 1 - \\frac{1}{2}\\frac{4}{100000000000} \\approx 1 - \\frac{1}{50000000000} \\approx 0.99999999998$\n",
    "\n",
    "6) $(1 - 4*10^{-12})^{1/2} \\approx (1 - 0.000000000004)^{1/2} \\approx 1 - \\frac{1}{2}\\frac{4}{1000000000000} \\approx 1 - \\frac{1}{500000000000} \\approx 0.999999999998$\n",
    "\n",
    "7) $(1 - 4*10^{-14})^{1/2} \\approx (1 - 0.00000000000004)^{1/2} \\approx 1 - \\frac{1}{2}\\frac{4}{100000000000000} \\approx 1 - \\frac{1}{50000000000000} \\approx 0.99999999999998$\n",
    "\n",
    "8) $(1 - 4*10^{-15})^{1/2} \\approx (1 - 0.000000000000004)^{1/2} \\approx 1 - \\frac{1}{2}\\frac{4}{1000000000000000} \\approx 1 - \\frac{1}{500000000000000} \\approx 0.999999999999998$\n",
    "\n",
    "Plugging these determinant values into **quad1** equation, we get the following analytical solutions:\n",
    "\n",
    "1) $[x_1, x_2] = [-0.1, -0.9]$\n",
    "\n",
    "2) $[x_1, x_2] = [-0.001, -0.999]$\n",
    "\n",
    "3) $[x_1, x_2] = [-0.00001, -0.99999]$\n",
    "\n",
    "4) $[x_1, x_2] = [-0.000000001, -0.999999999]$\n",
    "\n",
    "5) $[x_1, x_2] = [-0.00000000001, -0.99999999999]$\n",
    "\n",
    "6) $[x_1, x_2] = [-0.000000000001, -0.999999999999]$\n",
    "\n",
    "7) $[x_1, x_2] = [-0.0000000000001, -0.99999999999999]$\n",
    "\n",
    "8) $[x_1, x_2] = [-0.00000000000001, -0.999999999999999]$"
   ]
  },
  {
   "cell_type": "code",
   "execution_count": 4,
   "metadata": {},
   "outputs": [
    {
     "name": "stdout",
     "output_type": "stream",
     "text": [
      "Relative error of x1 for i =  1 :  0.12701665379258306\n",
      "Relative error of x2 for i =  1 :  0.01411296153250912\n",
      "Relative error of x1 for i =  3 :  0.0010020050140420803\n",
      "Relative error of x2 for i =  3 :  1.00300799775631e-06\n",
      "Relative error of x1 for i =  5 :  1.0000200004998971e-05\n",
      "Relative error of x2 for i =  5 :  1.016655823106807e-10\n",
      "Relative error of x1 for i =  9 :  1.0000001492112815e-09\n",
      "Relative error of x2 for i =  9 :  2.622921904518758e-08\n",
      "Relative error of x1 for i =  11 :  9.999999682655225e-12\n",
      "Relative error of x2 for i =  11 :  8.273036422672982e-08\n",
      "Relative error of x1 for i =  12 :  1.0000484358795393e-12\n",
      "Relative error of x2 for i =  12 :  3.338831529290384e-05\n",
      "Relative error of x1 for i =  14 :  0.899999999999999\n",
      "Relative error of x2 for i =  14 :  0.0007999171934536334\n",
      "Relative error of x1 for i =  15 :  0.8999999999999999\n",
      "Relative error of x2 for i =  15 :  0.0007999171934446333\n",
      "x_a:  [[-1.00000000e-01 -9.00000000e-01]\n",
      " [-1.00000000e-03 -9.99000000e-01]\n",
      " [-1.00000000e-05 -9.99990000e-01]\n",
      " [-1.00000000e-09 -9.99999999e-01]\n",
      " [-1.00000000e-11 -1.00000000e+00]\n",
      " [-1.00000000e-12 -1.00000000e+00]\n",
      " [-1.00000000e-13 -1.00000000e+00]\n",
      " [-1.00000000e-14 -1.00000000e+00]]\n",
      "x_c:  [[-1.12701665e-01 -8.87298335e-01]\n",
      " [-1.00100201e-03 -9.98998998e-01]\n",
      " [-1.00001000e-05 -9.99990000e-01]\n",
      " [-1.00000000e-09 -9.99999973e-01]\n",
      " [-1.00000000e-11 -9.99999917e-01]\n",
      " [-1.00000000e-12 -9.99966612e-01]\n",
      " [-1.00000000e-14 -1.00079992e+00]\n",
      " [-1.00000000e-15 -1.00079992e+00]]\n",
      "c_values:  [0.1, 0.001, 1e-05, 1e-09, 1e-11, 1e-12, 1e-14, 1e-15]\n"
     ]
    }
   ],
   "source": [
    "\"\"\"\n",
    "Calculating relative error between analytical solution and solutions computed by quad1 formula.\n",
    "\"\"\"\n",
    "\n",
    "a = 1\n",
    "b = 1\n",
    "#x1_1 = []\n",
    "#x2_1 = []\n",
    "x_a = np.array([[-0.1, -0.9], [-0.001, -0.999], [-0.00001, -0.99999], [-0.000000001, -0.999999999], \n",
    "               [-0.00000000001, -0.99999999999], \n",
    "                [-0.000000000001, -0.999999999999], [-0.0000000000001, -0.99999999999999],\n",
    "                [-0.00000000000001, -0.999999999999999]])\n",
    "x_c = np.empty_like(x_a) # nx2 array to hold computed solutions for [x1,x2] generated by quad1 function call.\n",
    "#x1_2 = []\n",
    "#x2_2 = []\n",
    "rel_err_x1 = []\n",
    "rel_err_x2 = []\n",
    "c_range = [1, 3, 5, 9, 11, 12, 14, 15]\n",
    "c_values = []\n",
    "count = 0\n",
    "\n",
    "for i in c_range:\n",
    "    c = 10**(-i)\n",
    "    c_values.append(c)\n",
    "    x_c[count] = quad2(a,b,c)\n",
    "    print(\"Relative error of x1 for i = \", i, \": \", np.abs((x_a[count][0]-x_c[count][0])/x_a[count][0]))\n",
    "    print(\"Relative error of x2 for i = \", i, \": \", np.abs((x_a[count][1]-x_c[count][1])/x_a[count][1]))\n",
    "    rel_err_x1.append(np.abs((x_a[count][0]-x_c[count][0])/x_a[count][0]))\n",
    "    rel_err_x2.append(np.abs((x_a[count][1]-x_c[count][1])/x_a[count][1]))\n",
    "    count += 1\n",
    "    \n",
    "print(\"x_a: \", x_a)\n",
    "print(\"x_c: \", x_c)\n",
    "print(\"c_values: \", c_values)"
   ]
  },
  {
   "cell_type": "markdown",
   "metadata": {},
   "source": [
    "Below I graph the relative error as a function of the value of the c parameter used in each iteration."
   ]
  },
  {
   "cell_type": "code",
   "execution_count": 6,
   "metadata": {},
   "outputs": [
    {
     "data": {
      "image/png": "[encoded data removed]",
      "text/plain": [
       "<Figure size 864x576 with 1 Axes>"
      ]
     },
     "metadata": {
      "needs_background": "light"
     },
     "output_type": "display_data"
    }
   ],
   "source": [
    "import matplotlib.pyplot as plt\n",
    "\n",
    "\n",
    "plt.figure(figsize=(12, 8))\n",
    "plt.plot(c_values, rel_err_x1, 'r-', label='x1')\n",
    "plt.plot(c_values, rel_err_x2, 'b-', label='x2')\n",
    "plt.xlabel(\"C values\")\n",
    "plt.ylabel(\"Relative error\")\n",
    "plt.xscale('log')\n",
    "plt.yscale('log')\n",
    "plt.title('Relative error as a function of the c-parameter value')\n",
    "plt.legend()\n",
    "plt.show()\n"
   ]
  },
  {
   "cell_type": "markdown",
   "metadata": {},
   "source": [
    "From the plot, we can see that the relative error for values of $x_1$ have a minimum value for particular values of the parameter c. We can relate this phenomenon to a trade off between round-off error (machine precision) and truncation error (from approximation). Thus, in these calculations for solutions to the quadratic formula, we want values for c that are neither too large nor too small.\n",
    "\n",
    "Interestingly for the $x_2$ solutions, this phenomenon is not observed. The relative error between $x_c$ and $x_a$ for the calculated solution for $x_2$ decreases continually until the relative error equals the machine precision ($10^{-16}$)."
   ]
  },
  {
   "cell_type": "code",
   "execution_count": null,
   "metadata": {},
   "outputs": [],
   "source": []
  }
 ],
 "metadata": {
  "kernelspec": {
   "display_name": "Python 3",
   "language": "python",
   "name": "python3"
  },
  "language_info": {
   "codemirror_mode": {
    "name": "ipython",
    "version": 3
   },
   "file_extension": ".py",
   "mimetype": "text/x-python",
   "name": "python",
   "nbconvert_exporter": "python",
   "pygments_lexer": "ipython3",
   "version": "3.7.3"
  }
 },
 "nbformat": 4,
 "nbformat_minor": 2
}
