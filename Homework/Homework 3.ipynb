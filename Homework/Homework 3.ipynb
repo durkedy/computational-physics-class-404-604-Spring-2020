{
 "cells": [
  {
   "cell_type": "markdown",
   "metadata": {},
   "source": [
    "# Homework 3: (DUE 2/17)\n",
    "\n",
    "Write a program to numerically evaluate the derivative of f(x)=cos x at an arbitrary position x.\n",
    "\n",
    "1) Evaluate the derivative at position x using the forward difference scheme. Plot log(Error)=log10|f’(numerically)-f’(analytic)| against log10(dx) for dx=1e-16,1e-15,….,0.1 at x=π/4. You should find Error~$dx^n$; what is n? what is the optimal value for dx.\n",
    "\n",
    "2) Repeat the exercise using the central difference scheme. Why this scheme is better?\n",
    "\n",
    "3) Repeat (2) for x=0. Why do the results differ? (hint: write out the error term derived in the class explicitly by plugging the derivative of cos or sin)\n",
    "\n",
    "\n",
    "\n",
    "\n",
    "\n",
    "For number 1, first I will write a program to calculate the derivative of f(x)=cosx using the forward difference scheme."
   ]
  },
  {
   "cell_type": "code",
   "execution_count": 1,
   "metadata": {},
   "outputs": [
    {
     "name": "stdout",
     "output_type": "stream",
     "text": [
      "dx: 1e-16,    y: -1.11022\n",
      "dx: 1e-15,    y: -0.777156\n",
      "dx: 1e-14,    y: -0.710543\n",
      "dx: 1e-13,    y: -0.707212\n",
      "dx: 1e-12,    y: -0.707101\n",
      "dx: 1e-11,    y: -0.707112\n",
      "dx: 1e-10,    y: -0.707107\n",
      "dx: 1e-09,    y: -0.707107\n",
      "dx: 1e-08,    y: -0.707107\n",
      "dx: 1e-07,    y: -0.707107\n",
      "dx: 1e-06,    y: -0.707107\n",
      "dx: 1e-05,    y: -0.70711\n",
      "dx: 0.0001,    y: -0.707142\n",
      "dx: 0.001,    y: -0.70746\n",
      "dx: 0.01,    y: -0.710631\n",
      "dx: 0.1,    y: -0.741255\n"
     ]
    }
   ],
   "source": [
    "import numpy as np\n",
    "\n",
    "\"\"\"\n",
    "Defining forward difference and central difference derivative schemes.\n",
    "\"\"\"\n",
    "\n",
    "def derifw(f,x,dx):\n",
    "    return (f(x+dx)-f(x))/dx\n",
    "\n",
    "def dericd(f,x,dx):\n",
    "    return (f(x+dx/2)-f(x-dx/2))/dx\n",
    "\n",
    "x = np.pi/4.\n",
    "dx_arr = []\n",
    "y_arr = []\n",
    "\n",
    "\n",
    "\"\"\"\n",
    "Populating step size (dx_arr) and derivative value (y_arr) arrays for\n",
    "gradually increasing values of dx.\n",
    "\"\"\"\n",
    "for dx in 10**np.arange(-16., -.1, 1):\n",
    "    y = derifw(np.cos, x, dx)\n",
    "    dx_arr.append(dx)\n",
    "    y_arr.append(y)\n",
    "    print('dx: %0.2g,    y: %g' %(dx, y))\n",
    "    "
   ]
  },
  {
   "cell_type": "code",
   "execution_count": 2,
   "metadata": {},
   "outputs": [
    {
     "data": {
      "text/plain": [
       "<Figure size 640x480 with 1 Axes>"
      ]
     },
     "metadata": {},
     "output_type": "display_data"
    }
   ],
   "source": [
    "import matplotlib.pyplot as plt\n",
    "\n",
    "\"\"\"\n",
    "Forward difference absolute error plot.\n",
    "\"\"\"\n",
    "plt.plot(dx_arr, abs(y_arr+np.sin(np.pi/4.)), 'b-', lw=2)     \n",
    "plt.xscale('log')\n",
    "plt.yscale('log')\n",
    "plt.xlabel('dx')\n",
    "plt.ylabel('Absolute Error')\n",
    "plt.title('Absolute error versus dx (forward difference)')\n",
    "plt.show()"
   ]
  },
  {
   "cell_type": "markdown",
   "metadata": {},
   "source": [
    "From the above graph, we can see that for small step size $d_x$, the approximation error $\\epsilon_{app}$ decreases almost linearly as step size is increased. However, round-off error $\\epsilon_{ro}$ will increase if you continue decreasing $d_x$ lower than certain value (~$10^{-8}$). Therefore, at very small step-sizes, the round-off error $\\epsilon_{ro}$ contribution will dominate over approximation error $\\epsilon_{app}$. \n",
    "\n",
    "As we have learned, we minimize the total error when \n",
    "\n",
    "$$\\epsilon_{app} = \\epsilon_{ro}$$.\n",
    "\n",
    "If we decrease the step size $d_x$ and follow the round-off error to the minimum on the graph, then we see that the round-off error limit is \n",
    "\n",
    "$$\\epsilon_{ro} = \\frac{\\epsilon_m}{d_x}$$\n",
    "\n",
    "\n",
    "The graph is consistent, then, with optimal step size \n",
    "\n",
    "$$d_x = \\frac{\\epsilon_m}{\\epsilon_{ro}} \\approx \\frac{10^{-16}}{10^-8} \\approx 10^{-8}$$\n",
    "\n",
    "It follows that at this minimum, \n",
    "\n",
    "$$\\epsilon_{app} = \\epsilon_{ro}$$\n",
    "\n",
    "Finally, *n* is on the same order of magnitude as the absolute error, provided you decrease the $d_x$ following the round-off error to the minimum."
   ]
  },
  {
   "cell_type": "code",
   "execution_count": 3,
   "metadata": {},
   "outputs": [
    {
     "name": "stdout",
     "output_type": "stream",
     "text": [
      "dx: 1e-16,    y: 0\n",
      "dx: 1e-15,    y: -0.777156\n",
      "dx: 1e-14,    y: -0.710543\n",
      "dx: 1e-13,    y: -0.707212\n",
      "dx: 1e-12,    y: -0.707212\n",
      "dx: 1e-11,    y: -0.707101\n",
      "dx: 1e-10,    y: -0.707107\n",
      "dx: 1e-09,    y: -0.707107\n",
      "dx: 1e-08,    y: -0.707107\n",
      "dx: 1e-07,    y: -0.707107\n",
      "dx: 1e-06,    y: -0.707107\n",
      "dx: 1e-05,    y: -0.707107\n",
      "dx: 0.0001,    y: -0.707107\n",
      "dx: 0.001,    y: -0.707107\n",
      "dx: 0.01,    y: -0.707104\n",
      "dx: 0.1,    y: -0.706812\n"
     ]
    }
   ],
   "source": [
    "x = np.pi/4.\n",
    "dx_arr_2 = []\n",
    "y_arr_2 = []\n",
    "\n",
    "\"\"\"\n",
    "Populating step size (dx_arr_2) and derivative value (y_arr_2) arrays for\n",
    "gradually increasing values of dx for central difference scheme.\n",
    "\"\"\"\n",
    "for dx in 10**np.arange(-16., -.1, 1):\n",
    "    y = dericd(np.cos, x, dx)\n",
    "    dx_arr_2.append(dx)\n",
    "    y_arr_2.append(y)\n",
    "    print('dx: %0.2g,    y: %g' %(dx, y))"
   ]
  },
  {
   "cell_type": "code",
   "execution_count": 4,
   "metadata": {},
   "outputs": [
    {
     "data": {
      "image/png": "[encoded data removed]",
      "text/plain": [
       "<Figure size 432x288 with 1 Axes>"
      ]
     },
     "metadata": {
      "needs_background": "light"
     },
     "output_type": "display_data"
    }
   ],
   "source": [
    "\"\"\"\n",
    "Central difference absolute error plot.\n",
    "\"\"\"\n",
    "\n",
    "plt.plot(dx_arr_2, abs(y_arr_2+np.sin(np.pi/4.)), 'b-', lw=2)     \n",
    "plt.xscale('log')\n",
    "plt.yscale('log')\n",
    "plt.xlabel('dx')\n",
    "plt.ylabel('Absolute Error')\n",
    "plt.title('Absolute error versus dx (central difference)')\n",
    "plt.show()"
   ]
  },
  {
   "cell_type": "markdown",
   "metadata": {},
   "source": [
    "For the central difference scheme, the error calculations are able to use higher order (third order) terms in the taylor expansion. Thus, we are able to use larger step sizes $d_x$ and obtain much lower (~1000x) absolute error when the round-off error $\\epsilon_{ro}$ equals the approximation error $\\epsilon{app}$.\n",
    "\n",
    "Optimum step size as shown by the graph is $d_x \\approx 10^{-5}$, which provides an absolute error of $\\epsilon \\approx 10^{-11}$"
   ]
  },
  {
   "cell_type": "code",
   "execution_count": 5,
   "metadata": {},
   "outputs": [
    {
     "name": "stdout",
     "output_type": "stream",
     "text": [
      "dx: 1e-16,    y: 0\n",
      "dx: 1e-15,    y: 0\n",
      "dx: 1e-14,    y: 0\n",
      "dx: 1e-13,    y: 0\n",
      "dx: 1e-12,    y: 0\n",
      "dx: 1e-11,    y: 0\n",
      "dx: 1e-10,    y: 0\n",
      "dx: 1e-09,    y: 0\n",
      "dx: 1e-08,    y: 0\n",
      "dx: 1e-07,    y: 0\n",
      "dx: 1e-06,    y: 0\n",
      "dx: 1e-05,    y: 0\n",
      "dx: 0.0001,    y: 0\n",
      "dx: 0.001,    y: 0\n",
      "dx: 0.01,    y: 0\n",
      "dx: 0.1,    y: 0\n"
     ]
    }
   ],
   "source": [
    "x = 0.\n",
    "dx_arr_3 = []\n",
    "y_arr_3 = []\n",
    "\n",
    "for dx in 10**np.arange(-16., -.1, 1):\n",
    "    y = dericd(np.cos, x, dx)\n",
    "    dx_arr_3.append(dx)\n",
    "    y_arr_3.append(y)\n",
    "    print('dx: %0.2g,    y: %g' %(dx, y))"
   ]
  },
  {
   "cell_type": "code",
   "execution_count": 6,
   "metadata": {},
   "outputs": [
    {
     "data": {
      "image/png": "[encoded data removed]",
      "text/plain": [
       "<Figure size 432x288 with 1 Axes>"
      ]
     },
     "metadata": {
      "needs_background": "light"
     },
     "output_type": "display_data"
    }
   ],
   "source": [
    "plt.plot(dx_arr_3, abs(y_arr_3+np.sin(0)), 'b-', lw=2)     \n",
    "#plt.xscale('log')\n",
    "#plt.yscale('log')\n",
    "plt.xlabel('dx')\n",
    "plt.ylabel('Absolute Error')\n",
    "#plt.yscale('log')\n",
    "plt.xscale('log')\n",
    "plt.title('Absolute error versus dx')\n",
    "plt.show()"
   ]
  },
  {
   "cell_type": "markdown",
   "metadata": {},
   "source": [
    "To evaluate why this absolute error is equal to zero for all step sizes, I write the taylor expansion for the central difference scheme below.\n",
    "\n",
    "The central difference derivative is defined by\n",
    "\n",
    "$$\\frac{dy}{dt} = \\frac{y(t+h/2)-y(t-h/2)}{h}$$\n",
    "\n",
    "Writing out the taylor expansion on the two terms in the numerator, we get\n",
    "\n",
    "$$y(t+h/2) \\approx y(t) + \\frac{h}{2}y^{'}(t) + \\frac{(h/2)^2}{2!}y^{''}(t) + \\frac{(h/2)^3}{3!}y^{'''}(t)  + ... + $$\n",
    "\n",
    "$$y(t-h/2) \\approx y(t) - \\frac{h}{2}y^{'}(t) + \\frac{(h/2)^2}{2!}y^{''}(t) - \\frac{(h/2)^3}{3!}y^{'''}(t)  + ... + $$\n",
    "\n",
    "Combining terms and rewriting,\n",
    "\n",
    "$$\\frac{dy}{dt} = y{'}(t) + \\frac{h^2)}{4*3!}y{'''}(t) +...$$\n",
    "\n",
    "if $y = cos(x)$, and x=0, then\n",
    "\n",
    "$$\\frac{dcos(x)}{dx} = y{'}(x) + \\frac{h^2)}{4*3!}y{'''}(x) +...$$\n",
    "\n",
    "$$\\frac{dcos(x)}{dx} = sin(x) + \\frac{h^2)}{4*3!}sin(x) +...$$\n",
    "\n",
    "Therefore,\n",
    "\n",
    "$$\\frac{dcos(x)}{dx} = 0 $$\n",
    "\n",
    "for all values of the stepsize *h* because $sin(0) = 0$"
   ]
  },
  {
   "cell_type": "code",
   "execution_count": null,
   "metadata": {},
   "outputs": [],
   "source": []
  }
 ],
 "metadata": {
  "kernelspec": {
   "display_name": "Python 3",
   "language": "python",
   "name": "python3"
  },
  "language_info": {
   "codemirror_mode": {
    "name": "ipython",
    "version": 3
   },
   "file_extension": ".py",
   "mimetype": "text/x-python",
   "name": "python",
   "nbconvert_exporter": "python",
   "pygments_lexer": "ipython3",
   "version": "3.7.3"
  }
 },
 "nbformat": 4,
 "nbformat_minor": 2
}
